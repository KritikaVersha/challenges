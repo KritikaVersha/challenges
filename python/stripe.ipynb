{
 "cells": [
  {
   "cell_type": "markdown",
   "metadata": {},
   "source": [
    "### Assignment\n",
    "\n",
    "You are developing a ecommerce solution and was assigned the tasks below.\n",
    "Feel free to reorganize the code, create extra functions,  refactor, remove or change the signature of the existing ones.\n",
    "We are providing you with a test Stripe account, but if you prefer you can create your own.\n",
    "\n",
    "Refer to the Stripe API docs here: https://stripe.com/docs/api?lang=python"
   ]
  },
  {
   "cell_type": "code",
   "execution_count": null,
   "metadata": {},
   "outputs": [],
   "source": [
    "import sqlite3\n",
    "import stripe\n",
    "import uuid\n",
    "\n",
    "stripe.api_key = \"sk_test_51Hwyj2BhE8lKv1ZzDvKt78rdtAAEXQsDFxGQ2sVK0k7THznI72nbKzyAN1XcV7kI3JkdIC0AcqBLM802o8NWgCSo00ZuRNYxSK\"\n",
    "stripe_account = 'acct_1Hwyj2BhE8lKv1Zz'\n",
    "\n",
    "con = sqlite3.connect(':memory:') # or persist to a file\n",
    "cur = con.cursor()"
   ]
  },
  {
   "cell_type": "code",
   "execution_count": null,
   "metadata": {},
   "outputs": [],
   "source": [
    "def init_db():\n",
    "    cur.execute('CREATE TABLE users (id text, email text, name text, created_at text, stripe_account text)')\n",
    "    cur.execute('CREATE TABLE products (id text, name text, created_at text, price integer)')\n",
    "    cur.execute('CREATE TABLE orders (id text, user_id text, product_id text, qty integer, total integer, stripe_charge_id text, created_at text)')"
   ]
  },
  {
   "cell_type": "code",
   "execution_count": null,
   "metadata": {},
   "outputs": [],
   "source": [
    "init_db()"
   ]
  },
  {
   "cell_type": "markdown",
   "metadata": {},
   "source": [
    "### create_user\n",
    "- Each user must have a unique id\n",
    "- Throws an exception if the email is already in use\n",
    "- Add the user to the database and create the stripe account\n",
    "- Add a test card to the user: `stripe.Customer.create_source(customer_id, source='tok_visa')`\n",
    "- Returns a user object"
   ]
  },
  {
   "cell_type": "code",
   "execution_count": null,
   "metadata": {},
   "outputs": [],
   "source": [
    "def create_user(email, name):\n",
    "    pass"
   ]
  },
  {
   "cell_type": "markdown",
   "metadata": {},
   "source": [
    "### update_user\n",
    "- Throws an exception if the email is already in use\n",
    "- Update db and stripe\n",
    "- Returns a user object"
   ]
  },
  {
   "cell_type": "code",
   "execution_count": null,
   "metadata": {},
   "outputs": [],
   "source": [
    "def update_user(id, email, name):\n",
    "    pass"
   ]
  },
  {
   "cell_type": "markdown",
   "metadata": {},
   "source": [
    "### get_user\n",
    "- Search db by id or email and returns a user object"
   ]
  },
  {
   "cell_type": "code",
   "execution_count": null,
   "metadata": {},
   "outputs": [],
   "source": [
    "def get_user(**kwargs):\n",
    "    pass"
   ]
  },
  {
   "cell_type": "markdown",
   "metadata": {},
   "source": [
    "### create_product\n",
    "- Each produt must have a unique id\n",
    "- Add new products, the price is an integer representing cents"
   ]
  },
  {
   "cell_type": "code",
   "execution_count": null,
   "metadata": {},
   "outputs": [],
   "source": [
    "def create_product(name, price):\n",
    "    pass"
   ]
  },
  {
   "cell_type": "markdown",
   "metadata": {},
   "source": [
    "### create_order\n",
    "- Throws if the user or the product do not exist\n",
    "- Store the order in the db"
   ]
  },
  {
   "cell_type": "code",
   "execution_count": null,
   "metadata": {},
   "outputs": [],
   "source": [
    "def create_order(user_id, product_id, qty):\n",
    "    pass"
   ]
  },
  {
   "cell_type": "markdown",
   "metadata": {},
   "source": [
    "### list_orders\n",
    "- List the orders for a user"
   ]
  },
  {
   "cell_type": "code",
   "execution_count": null,
   "metadata": {},
   "outputs": [],
   "source": [
    "def list_orders(user_id):\n",
    "    pass"
   ]
  },
  {
   "cell_type": "markdown",
   "metadata": {},
   "source": [
    "## Optional/Bonus\n",
    "\n",
    "- Add extra validation and handle stripe/db exceptions (by catching and throwing new custom exceptions)\n",
    "- Creating a RESTful API implementing all/some of the CRUD fucntions. You can use any framework or microframework that you prefer. (no authentication necessary)\n",
    "- Add a refund function\n",
    "- Add testing\n",
    "- Add Swagger/Openapi documentation\n",
    "- Add type hinting"
   ]
  }
 ],
 "metadata": {
  "kernelspec": {
   "display_name": "Python 3",
   "language": "python",
   "name": "python3"
  },
  "language_info": {
   "codemirror_mode": {
    "name": "ipython",
    "version": 3
   },
   "file_extension": ".py",
   "mimetype": "text/x-python",
   "name": "python",
   "nbconvert_exporter": "python",
   "pygments_lexer": "ipython3",
   "version": "3.8.6"
  }
 },
 "nbformat": 4,
 "nbformat_minor": 4
}
